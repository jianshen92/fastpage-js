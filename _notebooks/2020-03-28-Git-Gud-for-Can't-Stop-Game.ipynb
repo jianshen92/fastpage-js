{
 "cells": [
  {
   "cell_type": "markdown",
   "metadata": {},
   "source": [
    "# Git Gud Can't Stop\n",
    "> Simple Calculation to help us make better decision in the game of [Can't Stop](https://en.wikipedia.org/wiki/Can't_Stop_(board_game). \n",
    "\n",
    "- toc: true \n",
    "- badges: true\n",
    "- comments: true\n",
    "- categories: [fastpages, jupyter]"
   ]
  },
  {
   "cell_type": "code",
   "execution_count": 74,
   "metadata": {},
   "outputs": [],
   "source": [
    "import pandas as pd\n",
    "import numpy as np\n",
    "import itertools"
   ]
  },
  {
   "cell_type": "code",
   "execution_count": 1,
   "metadata": {},
   "outputs": [],
   "source": [
    "all_lst = []"
   ]
  },
  {
   "cell_type": "code",
   "execution_count": 5,
   "metadata": {},
   "outputs": [],
   "source": [
    "# Compute all possible dice combination\n",
    "for d1 in range(1,7):\n",
    "    for d2 in range(1,7):\n",
    "        for d3 in range(1,7):\n",
    "            for d4 in range(1,7):\n",
    "                comb = [d1,d2,d3,d4]\n",
    "                all_lst.append(comb) "
   ]
  },
  {
   "cell_type": "code",
   "execution_count": 11,
   "metadata": {},
   "outputs": [],
   "source": [
    "df = pd.DataFrame(all_lst)"
   ]
  },
  {
   "cell_type": "code",
   "execution_count": 12,
   "metadata": {},
   "outputs": [],
   "source": [
    "df.columns = [\"dice_1\", \"dice_2\", \"dice_3\", \"dice_4\"]"
   ]
  },
  {
   "cell_type": "code",
   "execution_count": 57,
   "metadata": {},
   "outputs": [],
   "source": [
    "df[\"comb_set\"] = np.NaN"
   ]
  },
  {
   "cell_type": "code",
   "execution_count": 58,
   "metadata": {},
   "outputs": [
    {
     "data": {
      "text/html": [
       "<div>\n",
       "<style scoped>\n",
       "    .dataframe tbody tr th:only-of-type {\n",
       "        vertical-align: middle;\n",
       "    }\n",
       "\n",
       "    .dataframe tbody tr th {\n",
       "        vertical-align: top;\n",
       "    }\n",
       "\n",
       "    .dataframe thead th {\n",
       "        text-align: right;\n",
       "    }\n",
       "</style>\n",
       "<table border=\"1\" class=\"dataframe\">\n",
       "  <thead>\n",
       "    <tr style=\"text-align: right;\">\n",
       "      <th></th>\n",
       "      <th>dice_1</th>\n",
       "      <th>dice_2</th>\n",
       "      <th>dice_3</th>\n",
       "      <th>dice_4</th>\n",
       "      <th>comb_set</th>\n",
       "    </tr>\n",
       "  </thead>\n",
       "  <tbody>\n",
       "    <tr>\n",
       "      <th>0</th>\n",
       "      <td>1</td>\n",
       "      <td>1</td>\n",
       "      <td>1</td>\n",
       "      <td>1</td>\n",
       "      <td>NaN</td>\n",
       "    </tr>\n",
       "    <tr>\n",
       "      <th>1</th>\n",
       "      <td>1</td>\n",
       "      <td>1</td>\n",
       "      <td>1</td>\n",
       "      <td>2</td>\n",
       "      <td>NaN</td>\n",
       "    </tr>\n",
       "    <tr>\n",
       "      <th>2</th>\n",
       "      <td>1</td>\n",
       "      <td>1</td>\n",
       "      <td>1</td>\n",
       "      <td>3</td>\n",
       "      <td>NaN</td>\n",
       "    </tr>\n",
       "    <tr>\n",
       "      <th>3</th>\n",
       "      <td>1</td>\n",
       "      <td>1</td>\n",
       "      <td>1</td>\n",
       "      <td>4</td>\n",
       "      <td>NaN</td>\n",
       "    </tr>\n",
       "    <tr>\n",
       "      <th>4</th>\n",
       "      <td>1</td>\n",
       "      <td>1</td>\n",
       "      <td>1</td>\n",
       "      <td>5</td>\n",
       "      <td>NaN</td>\n",
       "    </tr>\n",
       "    <tr>\n",
       "      <th>...</th>\n",
       "      <td>...</td>\n",
       "      <td>...</td>\n",
       "      <td>...</td>\n",
       "      <td>...</td>\n",
       "      <td>...</td>\n",
       "    </tr>\n",
       "    <tr>\n",
       "      <th>1291</th>\n",
       "      <td>6</td>\n",
       "      <td>6</td>\n",
       "      <td>6</td>\n",
       "      <td>2</td>\n",
       "      <td>NaN</td>\n",
       "    </tr>\n",
       "    <tr>\n",
       "      <th>1292</th>\n",
       "      <td>6</td>\n",
       "      <td>6</td>\n",
       "      <td>6</td>\n",
       "      <td>3</td>\n",
       "      <td>NaN</td>\n",
       "    </tr>\n",
       "    <tr>\n",
       "      <th>1293</th>\n",
       "      <td>6</td>\n",
       "      <td>6</td>\n",
       "      <td>6</td>\n",
       "      <td>4</td>\n",
       "      <td>NaN</td>\n",
       "    </tr>\n",
       "    <tr>\n",
       "      <th>1294</th>\n",
       "      <td>6</td>\n",
       "      <td>6</td>\n",
       "      <td>6</td>\n",
       "      <td>5</td>\n",
       "      <td>NaN</td>\n",
       "    </tr>\n",
       "    <tr>\n",
       "      <th>1295</th>\n",
       "      <td>6</td>\n",
       "      <td>6</td>\n",
       "      <td>6</td>\n",
       "      <td>6</td>\n",
       "      <td>NaN</td>\n",
       "    </tr>\n",
       "  </tbody>\n",
       "</table>\n",
       "<p>1296 rows × 5 columns</p>\n",
       "</div>"
      ],
      "text/plain": [
       "      dice_1  dice_2  dice_3  dice_4  comb_set\n",
       "0          1       1       1       1       NaN\n",
       "1          1       1       1       2       NaN\n",
       "2          1       1       1       3       NaN\n",
       "3          1       1       1       4       NaN\n",
       "4          1       1       1       5       NaN\n",
       "...      ...     ...     ...     ...       ...\n",
       "1291       6       6       6       2       NaN\n",
       "1292       6       6       6       3       NaN\n",
       "1293       6       6       6       4       NaN\n",
       "1294       6       6       6       5       NaN\n",
       "1295       6       6       6       6       NaN\n",
       "\n",
       "[1296 rows x 5 columns]"
      ]
     },
     "execution_count": 58,
     "metadata": {},
     "output_type": "execute_result"
    }
   ],
   "source": [
    "df"
   ]
  },
  {
   "cell_type": "code",
   "execution_count": 67,
   "metadata": {
    "scrolled": true
   },
   "outputs": [],
   "source": [
    "# Compute the possible number can be formed for each combination with two dices\n",
    "unique_lst = []\n",
    "for i, row in df.iterrows():\n",
    "    comb_set = set()\n",
    "    comb_set.add(row[\"dice_1\"] + row[\"dice_2\"]) \n",
    "    comb_set.add(row[\"dice_1\"] + row[\"dice_3\"]) \n",
    "    comb_set.add(row[\"dice_1\"] + row[\"dice_4\"]) \n",
    "    comb_set.add(row[\"dice_2\"] + row[\"dice_3\"]) \n",
    "    comb_set.add(row[\"dice_2\"] + row[\"dice_4\"]) \n",
    "    comb_set.add(row[\"dice_3\"] + row[\"dice_4\"]) \n",
    "    unique_lst.append(list(comb_set))\n",
    "#     print(list(comb_set))\n",
    "    \n",
    "#     df.loc[i,\"comb_set\"] = list(comb_set)"
   ]
  },
  {
   "cell_type": "code",
   "execution_count": 61,
   "metadata": {},
   "outputs": [],
   "source": [
    "df[\"comb_set\"] = unique_lst"
   ]
  },
  {
   "cell_type": "code",
   "execution_count": 62,
   "metadata": {},
   "outputs": [
    {
     "data": {
      "text/html": [
       "<div>\n",
       "<style scoped>\n",
       "    .dataframe tbody tr th:only-of-type {\n",
       "        vertical-align: middle;\n",
       "    }\n",
       "\n",
       "    .dataframe tbody tr th {\n",
       "        vertical-align: top;\n",
       "    }\n",
       "\n",
       "    .dataframe thead th {\n",
       "        text-align: right;\n",
       "    }\n",
       "</style>\n",
       "<table border=\"1\" class=\"dataframe\">\n",
       "  <thead>\n",
       "    <tr style=\"text-align: right;\">\n",
       "      <th></th>\n",
       "      <th>dice_1</th>\n",
       "      <th>dice_2</th>\n",
       "      <th>dice_3</th>\n",
       "      <th>dice_4</th>\n",
       "      <th>comb_set</th>\n",
       "    </tr>\n",
       "  </thead>\n",
       "  <tbody>\n",
       "    <tr>\n",
       "      <th>0</th>\n",
       "      <td>1</td>\n",
       "      <td>1</td>\n",
       "      <td>1</td>\n",
       "      <td>1</td>\n",
       "      <td>[2.0]</td>\n",
       "    </tr>\n",
       "    <tr>\n",
       "      <th>1</th>\n",
       "      <td>1</td>\n",
       "      <td>1</td>\n",
       "      <td>1</td>\n",
       "      <td>2</td>\n",
       "      <td>[2.0, 3.0]</td>\n",
       "    </tr>\n",
       "    <tr>\n",
       "      <th>2</th>\n",
       "      <td>1</td>\n",
       "      <td>1</td>\n",
       "      <td>1</td>\n",
       "      <td>3</td>\n",
       "      <td>[2.0, 4.0]</td>\n",
       "    </tr>\n",
       "    <tr>\n",
       "      <th>3</th>\n",
       "      <td>1</td>\n",
       "      <td>1</td>\n",
       "      <td>1</td>\n",
       "      <td>4</td>\n",
       "      <td>[2.0, 5.0]</td>\n",
       "    </tr>\n",
       "    <tr>\n",
       "      <th>4</th>\n",
       "      <td>1</td>\n",
       "      <td>1</td>\n",
       "      <td>1</td>\n",
       "      <td>5</td>\n",
       "      <td>[2.0, 6.0]</td>\n",
       "    </tr>\n",
       "    <tr>\n",
       "      <th>...</th>\n",
       "      <td>...</td>\n",
       "      <td>...</td>\n",
       "      <td>...</td>\n",
       "      <td>...</td>\n",
       "      <td>...</td>\n",
       "    </tr>\n",
       "    <tr>\n",
       "      <th>1291</th>\n",
       "      <td>6</td>\n",
       "      <td>6</td>\n",
       "      <td>6</td>\n",
       "      <td>2</td>\n",
       "      <td>[8.0, 12.0]</td>\n",
       "    </tr>\n",
       "    <tr>\n",
       "      <th>1292</th>\n",
       "      <td>6</td>\n",
       "      <td>6</td>\n",
       "      <td>6</td>\n",
       "      <td>3</td>\n",
       "      <td>[9.0, 12.0]</td>\n",
       "    </tr>\n",
       "    <tr>\n",
       "      <th>1293</th>\n",
       "      <td>6</td>\n",
       "      <td>6</td>\n",
       "      <td>6</td>\n",
       "      <td>4</td>\n",
       "      <td>[10.0, 12.0]</td>\n",
       "    </tr>\n",
       "    <tr>\n",
       "      <th>1294</th>\n",
       "      <td>6</td>\n",
       "      <td>6</td>\n",
       "      <td>6</td>\n",
       "      <td>5</td>\n",
       "      <td>[11.0, 12.0]</td>\n",
       "    </tr>\n",
       "    <tr>\n",
       "      <th>1295</th>\n",
       "      <td>6</td>\n",
       "      <td>6</td>\n",
       "      <td>6</td>\n",
       "      <td>6</td>\n",
       "      <td>[12.0]</td>\n",
       "    </tr>\n",
       "  </tbody>\n",
       "</table>\n",
       "<p>1296 rows × 5 columns</p>\n",
       "</div>"
      ],
      "text/plain": [
       "      dice_1  dice_2  dice_3  dice_4      comb_set\n",
       "0          1       1       1       1         [2.0]\n",
       "1          1       1       1       2    [2.0, 3.0]\n",
       "2          1       1       1       3    [2.0, 4.0]\n",
       "3          1       1       1       4    [2.0, 5.0]\n",
       "4          1       1       1       5    [2.0, 6.0]\n",
       "...      ...     ...     ...     ...           ...\n",
       "1291       6       6       6       2   [8.0, 12.0]\n",
       "1292       6       6       6       3   [9.0, 12.0]\n",
       "1293       6       6       6       4  [10.0, 12.0]\n",
       "1294       6       6       6       5  [11.0, 12.0]\n",
       "1295       6       6       6       6        [12.0]\n",
       "\n",
       "[1296 rows x 5 columns]"
      ]
     },
     "execution_count": 62,
     "metadata": {},
     "output_type": "execute_result"
    }
   ],
   "source": [
    "df"
   ]
  },
  {
   "cell_type": "code",
   "execution_count": 60,
   "metadata": {},
   "outputs": [
    {
     "data": {
      "text/plain": [
       "1296"
      ]
     },
     "execution_count": 60,
     "metadata": {},
     "output_type": "execute_result"
    }
   ],
   "source": [
    "len(unique_lst)"
   ]
  },
  {
   "cell_type": "code",
   "execution_count": 63,
   "metadata": {},
   "outputs": [
    {
     "data": {
      "text/plain": [
       "[2, 3, 4, 5, 6, 7, 8, 9, 10, 11, 12]"
      ]
     },
     "execution_count": 63,
     "metadata": {},
     "output_type": "execute_result"
    }
   ],
   "source": [
    "# Possible Column Numbers in game\n",
    "number_col = list(range(2,13)); number_col"
   ]
  },
  {
   "cell_type": "code",
   "execution_count": 65,
   "metadata": {},
   "outputs": [],
   "source": [
    "prob_lst = []\n",
    "for col in number_col:\n",
    "    count = 0\n",
    "    for unique in unique_lst:\n",
    "        if col in unique:\n",
    "            count += 1\n",
    "    prob = count/len(unique_lst)\n",
    "    prob_lst.append(prob)   "
   ]
  },
  {
   "cell_type": "code",
   "execution_count": 90,
   "metadata": {},
   "outputs": [
    {
     "name": "stdout",
     "output_type": "stream",
     "text": [
      "Probability of Hitting 2 is 13.19%\n",
      "Probability of Hitting 3 is 23.3%\n",
      "Probability of Hitting 4 is 35.57%\n",
      "Probability of Hitting 5 is 44.75%\n",
      "Probability of Hitting 6 is 56.1%\n",
      "Probability of Hitting 7 is 64.35%\n",
      "Probability of Hitting 8 is 56.1%\n",
      "Probability of Hitting 9 is 44.75%\n",
      "Probability of Hitting 10 is 35.57%\n",
      "Probability of Hitting 11 is 23.3%\n",
      "Probability of Hitting 12 is 13.19%\n"
     ]
    }
   ],
   "source": [
    "for col, prob in zip(number_col,prob_lst):\n",
    "    print(f\"Probability of Hitting {col} is {round(prob*100,2)}%\")"
   ]
  },
  {
   "cell_type": "code",
   "execution_count": 75,
   "metadata": {},
   "outputs": [],
   "source": [
    "comb_3_lst = list(itertools.combinations(number_col, 3))"
   ]
  },
  {
   "cell_type": "code",
   "execution_count": 76,
   "metadata": {},
   "outputs": [],
   "source": [
    "prob_3_lst = []\n",
    "for comb_3 in comb_3_lst:\n",
    "    count = 0\n",
    "    for unique in unique_lst:\n",
    "        if comb_3[0] in unique or comb_3[1] in unique or comb_3[2] in unique:\n",
    "            count += 1\n",
    "            \n",
    "    prob_3 = count/len(unique_lst)\n",
    "    prob_3_lst.append(prob_3)"
   ]
  },
  {
   "cell_type": "code",
   "execution_count": 79,
   "metadata": {},
   "outputs": [],
   "source": [
    "assert len(prob_3_lst) == len(comb_3_lst)"
   ]
  },
  {
   "cell_type": "code",
   "execution_count": 80,
   "metadata": {},
   "outputs": [],
   "source": [
    "final_df = pd.DataFrame()"
   ]
  },
  {
   "cell_type": "code",
   "execution_count": 81,
   "metadata": {},
   "outputs": [],
   "source": [
    "final_df[\"possible_numbers_round\"] = comb_3_lst"
   ]
  },
  {
   "cell_type": "code",
   "execution_count": 82,
   "metadata": {},
   "outputs": [],
   "source": [
    "final_df[\"probability_hit\"] = prob_3_lst"
   ]
  },
  {
   "cell_type": "code",
   "execution_count": 85,
   "metadata": {},
   "outputs": [
    {
     "data": {
      "text/html": [
       "<div>\n",
       "<style scoped>\n",
       "    .dataframe tbody tr th:only-of-type {\n",
       "        vertical-align: middle;\n",
       "    }\n",
       "\n",
       "    .dataframe tbody tr th {\n",
       "        vertical-align: top;\n",
       "    }\n",
       "\n",
       "    .dataframe thead th {\n",
       "        text-align: right;\n",
       "    }\n",
       "</style>\n",
       "<table border=\"1\" class=\"dataframe\">\n",
       "  <thead>\n",
       "    <tr style=\"text-align: right;\">\n",
       "      <th></th>\n",
       "      <th>possible_numbers_round</th>\n",
       "      <th>probability_hit</th>\n",
       "    </tr>\n",
       "  </thead>\n",
       "  <tbody>\n",
       "    <tr>\n",
       "      <th>130</th>\n",
       "      <td>(6, 7, 8)</td>\n",
       "      <td>0.919753</td>\n",
       "    </tr>\n",
       "    <tr>\n",
       "      <th>131</th>\n",
       "      <td>(6, 7, 9)</td>\n",
       "      <td>0.914352</td>\n",
       "    </tr>\n",
       "    <tr>\n",
       "      <th>115</th>\n",
       "      <td>(5, 7, 8)</td>\n",
       "      <td>0.914352</td>\n",
       "    </tr>\n",
       "    <tr>\n",
       "      <th>136</th>\n",
       "      <td>(6, 8, 10)</td>\n",
       "      <td>0.911265</td>\n",
       "    </tr>\n",
       "    <tr>\n",
       "      <th>89</th>\n",
       "      <td>(4, 6, 8)</td>\n",
       "      <td>0.911265</td>\n",
       "    </tr>\n",
       "    <tr>\n",
       "      <th>132</th>\n",
       "      <td>(6, 7, 10)</td>\n",
       "      <td>0.902778</td>\n",
       "    </tr>\n",
       "    <tr>\n",
       "      <th>94</th>\n",
       "      <td>(4, 7, 8)</td>\n",
       "      <td>0.902778</td>\n",
       "    </tr>\n",
       "    <tr>\n",
       "      <th>110</th>\n",
       "      <td>(5, 6, 8)</td>\n",
       "      <td>0.895062</td>\n",
       "    </tr>\n",
       "    <tr>\n",
       "      <th>135</th>\n",
       "      <td>(6, 8, 9)</td>\n",
       "      <td>0.895062</td>\n",
       "    </tr>\n",
       "    <tr>\n",
       "      <th>66</th>\n",
       "      <td>(3, 7, 8)</td>\n",
       "      <td>0.892747</td>\n",
       "    </tr>\n",
       "  </tbody>\n",
       "</table>\n",
       "</div>"
      ],
      "text/plain": [
       "    possible_numbers_round  probability_hit\n",
       "130              (6, 7, 8)         0.919753\n",
       "131              (6, 7, 9)         0.914352\n",
       "115              (5, 7, 8)         0.914352\n",
       "136             (6, 8, 10)         0.911265\n",
       "89               (4, 6, 8)         0.911265\n",
       "132             (6, 7, 10)         0.902778\n",
       "94               (4, 7, 8)         0.902778\n",
       "110              (5, 6, 8)         0.895062\n",
       "135              (6, 8, 9)         0.895062\n",
       "66               (3, 7, 8)         0.892747"
      ]
     },
     "execution_count": 85,
     "metadata": {},
     "output_type": "execute_result"
    }
   ],
   "source": [
    "final_df.sort_values(by='probability_hit', ascending=False).head(10)"
   ]
  },
  {
   "cell_type": "code",
   "execution_count": 86,
   "metadata": {},
   "outputs": [
    {
     "data": {
      "text/html": [
       "<div>\n",
       "<style scoped>\n",
       "    .dataframe tbody tr th:only-of-type {\n",
       "        vertical-align: middle;\n",
       "    }\n",
       "\n",
       "    .dataframe tbody tr th {\n",
       "        vertical-align: top;\n",
       "    }\n",
       "\n",
       "    .dataframe thead th {\n",
       "        text-align: right;\n",
       "    }\n",
       "</style>\n",
       "<table border=\"1\" class=\"dataframe\">\n",
       "  <thead>\n",
       "    <tr style=\"text-align: right;\">\n",
       "      <th></th>\n",
       "      <th>possible_numbers_round</th>\n",
       "      <th>probability_hit</th>\n",
       "    </tr>\n",
       "  </thead>\n",
       "  <tbody>\n",
       "    <tr>\n",
       "      <th>42</th>\n",
       "      <td>(2, 10, 11)</td>\n",
       "      <td>0.578704</td>\n",
       "    </tr>\n",
       "    <tr>\n",
       "      <th>52</th>\n",
       "      <td>(3, 4, 12)</td>\n",
       "      <td>0.578704</td>\n",
       "    </tr>\n",
       "    <tr>\n",
       "      <th>16</th>\n",
       "      <td>(2, 4, 12)</td>\n",
       "      <td>0.551698</td>\n",
       "    </tr>\n",
       "    <tr>\n",
       "      <th>43</th>\n",
       "      <td>(2, 10, 12)</td>\n",
       "      <td>0.551698</td>\n",
       "    </tr>\n",
       "    <tr>\n",
       "      <th>7</th>\n",
       "      <td>(2, 3, 11)</td>\n",
       "      <td>0.525463</td>\n",
       "    </tr>\n",
       "    <tr>\n",
       "      <th>80</th>\n",
       "      <td>(3, 11, 12)</td>\n",
       "      <td>0.525463</td>\n",
       "    </tr>\n",
       "    <tr>\n",
       "      <th>0</th>\n",
       "      <td>(2, 3, 4)</td>\n",
       "      <td>0.521605</td>\n",
       "    </tr>\n",
       "    <tr>\n",
       "      <th>164</th>\n",
       "      <td>(10, 11, 12)</td>\n",
       "      <td>0.521605</td>\n",
       "    </tr>\n",
       "    <tr>\n",
       "      <th>44</th>\n",
       "      <td>(2, 11, 12)</td>\n",
       "      <td>0.438272</td>\n",
       "    </tr>\n",
       "    <tr>\n",
       "      <th>8</th>\n",
       "      <td>(2, 3, 12)</td>\n",
       "      <td>0.438272</td>\n",
       "    </tr>\n",
       "  </tbody>\n",
       "</table>\n",
       "</div>"
      ],
      "text/plain": [
       "    possible_numbers_round  probability_hit\n",
       "42             (2, 10, 11)         0.578704\n",
       "52              (3, 4, 12)         0.578704\n",
       "16              (2, 4, 12)         0.551698\n",
       "43             (2, 10, 12)         0.551698\n",
       "7               (2, 3, 11)         0.525463\n",
       "80             (3, 11, 12)         0.525463\n",
       "0                (2, 3, 4)         0.521605\n",
       "164           (10, 11, 12)         0.521605\n",
       "44             (2, 11, 12)         0.438272\n",
       "8               (2, 3, 12)         0.438272"
      ]
     },
     "execution_count": 86,
     "metadata": {},
     "output_type": "execute_result"
    }
   ],
   "source": [
    "final_df.sort_values(by='probability_hit', ascending=False).tail(10)"
   ]
  },
  {
   "cell_type": "code",
   "execution_count": null,
   "metadata": {},
   "outputs": [],
   "source": []
  }
 ],
 "metadata": {
  "kernelspec": {
   "display_name": "Python 3",
   "language": "python",
   "name": "python3"
  },
  "language_info": {
   "codemirror_mode": {
    "name": "ipython",
    "version": 3
   },
   "file_extension": ".py",
   "mimetype": "text/x-python",
   "name": "python",
   "nbconvert_exporter": "python",
   "pygments_lexer": "ipython3",
   "version": "3.7.7"
  }
 },
 "nbformat": 4,
 "nbformat_minor": 4
}
