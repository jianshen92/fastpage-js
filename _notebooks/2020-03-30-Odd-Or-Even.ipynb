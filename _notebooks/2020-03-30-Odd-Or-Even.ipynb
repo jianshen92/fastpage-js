{
 "cells": [
  {
   "cell_type": "markdown",
   "metadata": {},
   "source": [
    "# Odd or Even?\n",
    "> You play a game of guessing the outcome of flipping two coins/frisbee. What should you guess?\n",
    "\n",
    "- toc: true \n",
    "- badges: true\n",
    "- comments: true\n",
    "- categories: [jupyter, game]"
   ]
  },
  {
   "cell_type": "markdown",
   "metadata": {},
   "source": [
    "## Play the Game\n",
    "\n",
    "You are playing in the finals of an ultimate game, and the wind is blowing hard. 10 Minutes before the game starts, captain of both finalist teams are inching towards each other, each holding a disc, and you are one of them. The team who wins the flip would get to start on the downwind side. Sam, the captain of the opposing team gives you the opportunity to call for the outcome of the flip. What would you call, EVENS or ODDS?\n",
    "\n",
    "![Frisbee image](http://www.maikaisogawa.com/wp-content/uploads/2018/12/discs.jpg)"
   ]
  },
  {
   "cell_type": "markdown",
   "metadata": {},
   "source": [
    "## HOW?\n",
    "\n",
    "### The Probabilities\n",
    "\n",
    "Let \n",
    "\n",
    "$p(Heads) = x$ \n",
    "\n",
    "be the probability of the getting a head in single disc flip. Then,\n",
    "\n",
    "$p(Tails) = 1-x$ "
   ]
  },
  {
   "cell_type": "markdown",
   "metadata": {},
   "source": [
    "We find the probabilities of getting even and odds.\n",
    "\n",
    "$\n",
    "\\begin{align}\n",
    "p(Evens) & = p(Heads)p(Heads) + p(Tails)p(Tails) \\\\\n",
    "& = x^2 + (1-x)^2 \\\\\n",
    "& = 2x^2 - 2x + 1\n",
    "\\end{align}\n",
    "$\n",
    "\n",
    "$\n",
    "\\begin{align}\n",
    "p(Odds) & = p(Heads)p(Tails) + p(Tails)p(Heads) \\\\\n",
    "& = 2 \\times x(1-x) \\\\\n",
    "& = 2x - 2x^2\n",
    "\\end{align}\n",
    "$"
   ]
  },
  {
   "cell_type": "markdown",
   "metadata": {},
   "source": [
    "We find the difference in probability, i.e. \n",
    "\n",
    "$\n",
    "\\begin{align}\n",
    "p(Evens)-p(Odds) = 4x^2 - 4x + 1 = y\n",
    "\\end{align}\n",
    "$"
   ]
  },
  {
   "cell_type": "markdown",
   "metadata": {},
   "source": [
    "### Visualizing it\n",
    "Let's plot the graph of $ y = 4x^2 - 4x + 1 $\n",
    "![Graph](images/quadratic.png)"
   ]
  },
  {
   "cell_type": "markdown",
   "metadata": {},
   "source": [
    "### What do we see\n",
    "Given all probability $x$ from 0 to 1, $p(Evens)-p(Odds)$ is always greater than 0. In fact this is true for all $x \\in \\mathbb{R}$.\n",
    "\n",
    "\\begin{align}\n",
    "p(Evens) \\geqslant p(Odds)\n",
    "\\end{align}\n"
   ]
  },
  {
   "cell_type": "markdown",
   "metadata": {},
   "source": [
    "## So?\n",
    "The answer is apparent. If the chances of getting heads or tails is 0.5, calling even or odds does not matter.\n",
    "\n",
    "However, our environment is imperfect, e.g. asymmetry of frisbee disc, wind condition. It is safe to assume $x$, will deviate from 0.5. \n",
    "\n",
    "Therefore, you'll be correct by calling **EVENS** at least half the time, if not more."
   ]
  },
  {
   "cell_type": "code",
   "execution_count": null,
   "metadata": {},
   "outputs": [],
   "source": []
  }
 ],
 "metadata": {
  "kernelspec": {
   "display_name": "Python 3",
   "language": "python",
   "name": "python3"
  },
  "language_info": {
   "codemirror_mode": {
    "name": "ipython",
    "version": 3
   },
   "file_extension": ".py",
   "mimetype": "text/x-python",
   "name": "python",
   "nbconvert_exporter": "python",
   "pygments_lexer": "ipython3",
   "version": "3.7.7"
  }
 },
 "nbformat": 4,
 "nbformat_minor": 4
}
